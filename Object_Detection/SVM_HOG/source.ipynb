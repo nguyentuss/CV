{
 "cells": [
  {
   "cell_type": "markdown",
   "metadata": {},
   "source": [
    "## Human detection\n",
    "\n",
    "Using SVM prediction base on the featured extract by HOG"
   ]
  },
  {
   "cell_type": "code",
   "execution_count": 5,
   "metadata": {},
   "outputs": [],
   "source": [
    "from skimage.feature import hog\n",
    "from skimage.transform import pyramid_gaussian\n",
    "from skimage.io import imread\n",
    "import joblib\n",
    "from sklearn.preprocessing import LabelEncoder\n",
    "from sklearn.svm import LinearSVC\n",
    "from sklearn.metrics import classification_report\n",
    "from sklearn.model_selection import train_test_split\n",
    "from skimage import color\n",
    "from imutils.object_detection import non_max_suppression\n",
    "import imutils\n",
    "import numpy as np\n",
    "import cv2 \n",
    "import argparse\n",
    "import cv2\n",
    "import os\n",
    "import glob\n",
    "from PIL import Image # This will be used to read/modify images (can be done via OpenCV too)\n",
    "from numpy import *"
   ]
  },
  {
   "cell_type": "code",
   "execution_count": 6,
   "metadata": {},
   "outputs": [],
   "source": [
    "# define parameters of HOG feature extraction\n",
    "orientations = 9 # nbins\n",
    "pixels_per_cell = (8, 8) # cell size\n",
    "cells_per_block = (2, 2) # block size (4 cells)\n",
    "threshold = .3 # If the confidence score of detection is below 0.3, it may be discarded as a false positive"
   ]
  },
  {
   "cell_type": "markdown",
   "metadata": {},
   "source": [
    "## Define path to image"
   ]
  },
  {
   "cell_type": "code",
   "execution_count": 17,
   "metadata": {},
   "outputs": [
    {
     "name": "stdout",
     "output_type": "stream",
     "text": [
      "Error: Path does not exist - d:\\Work\\Study\\AI\\CV\\Object Detection\\SVM_HOG\\data\\human-and-non-human\\training_set\\training_set\\humans\n",
      "Error: Path does not exist - d:\\Work\\Study\\AI\\CV\\Object Detection\\SVM_HOG\\data\\human-and-non-human\\training_set\\training_set\\non-humans\n"
     ]
    },
    {
     "ename": "FileNotFoundError",
     "evalue": "[WinError 3] The system cannot find the path specified: 'data/human-and-non-human/training_set/training_set\\\\humans'",
     "output_type": "error",
     "traceback": [
      "\u001b[1;31m---------------------------------------------------------------------------\u001b[0m",
      "\u001b[1;31mFileNotFoundError\u001b[0m                         Traceback (most recent call last)",
      "Cell \u001b[1;32mIn[17], line 13\u001b[0m\n\u001b[0;32m     10\u001b[0m \u001b[38;5;28;01mif\u001b[39;00m \u001b[38;5;129;01mnot\u001b[39;00m os\u001b[38;5;241m.\u001b[39mpath\u001b[38;5;241m.\u001b[39mexists(neg_im_path):\n\u001b[0;32m     11\u001b[0m     \u001b[38;5;28mprint\u001b[39m(\u001b[38;5;124mf\u001b[39m\u001b[38;5;124m\"\u001b[39m\u001b[38;5;124mError: Path does not exist - \u001b[39m\u001b[38;5;132;01m{\u001b[39;00mos\u001b[38;5;241m.\u001b[39mpath\u001b[38;5;241m.\u001b[39mabspath(neg_im_path)\u001b[38;5;132;01m}\u001b[39;00m\u001b[38;5;124m\"\u001b[39m)\n\u001b[1;32m---> 13\u001b[0m pos_im_listing \u001b[38;5;241m=\u001b[39m \u001b[43mos\u001b[49m\u001b[38;5;241;43m.\u001b[39;49m\u001b[43mlistdir\u001b[49m\u001b[43m(\u001b[49m\u001b[43mpos_im_path\u001b[49m\u001b[43m)\u001b[49m\n\u001b[0;32m     15\u001b[0m neg_im_listing \u001b[38;5;241m=\u001b[39m os\u001b[38;5;241m.\u001b[39mlistdir(neg_im_path)\n\u001b[0;32m     17\u001b[0m \u001b[38;5;28mprint\u001b[39m(pos_im_listing)\n",
      "\u001b[1;31mFileNotFoundError\u001b[0m: [WinError 3] The system cannot find the path specified: 'data/human-and-non-human/training_set/training_set\\\\humans'"
     ]
    }
   ],
   "source": [
    "base_path = \"data/human-and-non-human/training_set/training_set\"\n",
    "\n",
    "\n",
    "pos_im_path = os.path.join(base_path, \"humans\")\n",
    "#Define negative image for SVM training\n",
    "neg_im_path = os.path.join(base_path, \"non-humans\")\n",
    "\n",
    "if not os.path.exists(pos_im_path):\n",
    "    print(f\"Error: Path does not exist - {os.path.abspath(pos_im_path)}\")\n",
    "if not os.path.exists(neg_im_path):\n",
    "    print(f\"Error: Path does not exist - {os.path.abspath(neg_im_path)}\")\n",
    "\n",
    "pos_im_listing = os.listdir(pos_im_path)\n",
    "\n",
    "neg_im_listing = os.listdir(neg_im_path)\n",
    "\n",
    "print(pos_im_listing)"
   ]
  }
 ],
 "metadata": {
  "kernelspec": {
   "display_name": "AI",
   "language": "python",
   "name": "python3"
  },
  "language_info": {
   "codemirror_mode": {
    "name": "ipython",
    "version": 3
   },
   "file_extension": ".py",
   "mimetype": "text/x-python",
   "name": "python",
   "nbconvert_exporter": "python",
   "pygments_lexer": "ipython3",
   "version": "3.13.1"
  }
 },
 "nbformat": 4,
 "nbformat_minor": 2
}
